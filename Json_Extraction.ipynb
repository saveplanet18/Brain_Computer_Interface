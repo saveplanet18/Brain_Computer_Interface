{
 "cells": [
  {
   "cell_type": "code",
   "execution_count": 46,
   "metadata": {},
   "outputs": [],
   "source": [
    "import json\n",
    "import re\n",
    "import pandas as pd"
   ]
  },
  {
   "cell_type": "code",
   "execution_count": 47,
   "metadata": {},
   "outputs": [],
   "source": [
    "Url_path = \"Data.json\"\n",
    "with open(Url_path, 'r') as j:\n",
    "     contents = json.loads(j.read())\n",
    "mimeType = contents['mimeType']\n",
    "originalname = contents['originalname']\n",
    "name = contents['name']\n",
    "fileSize = contents['fileSize']\n",
    "ocrInfomation = contents['ocrInfomation']\n",
    "company_name_match = re.search(r'(.+?) The Science of Strategic Sourcing', ocrInfomation)\n",
    "company_name = company_name_match.group(1).strip() if company_name_match else None\n",
    "address_match = re.search(r'Suite (\\d+), (.+?), (.+?) (\\d+)', ocrInfomation)\n",
    "suite_number = address_match.group(1).strip() if address_match else None\n",
    "city = address_match.group(2).strip() if address_match else None\n",
    "state = address_match.group(3).strip() if address_match else None\n",
    "zip_code = address_match.group(4).strip() if address_match else None\n",
    "\n",
    "contact_person_match = re.search(r'General Manager (.+?) ', ocrInfomation)\n",
    "contact_person = contact_person_match.group(1).strip() if contact_person_match else None\n",
    "\n",
    "email_match = re.search(r'(\\S+@\\S+)', ocrInfomation)\n",
    "email = email_match.group(1).strip() if email_match else None\n",
    "\n",
    "phone_number_match = re.search(r'(\\d{4}-\\d{8,})', ocrInfomation)\n",
    "phone_number = phone_number_match.group(1).strip() if phone_number_match else None\n",
    "\n",
    "website_match = re.search(r'www\\.(\\S+)', ocrInfomation)\n",
    "website = website_match.group(1).strip() if website_match else None\n",
    "\n",
    "# extracted information\n",
    "Company_Information = {\n",
    "\n",
    "     \"Company Name\": company_name,\n",
    "     \"Suite Number\": suite_number,\n",
    "     \"City\": city,\n",
    "     \"State\": state,\n",
    "     \"Zip Code\": zip_code,\n",
    "     \"Contact Person\": contact_person,\n",
    "     \"Email\" : email,\n",
    "     \"Phone Number\": phone_number,\n",
    "     \"Website\" :website\n",
    "}\n",
    "\n"
   ]
  },
  {
   "cell_type": "code",
   "execution_count": 48,
   "metadata": {},
   "outputs": [
    {
     "data": {
      "text/html": [
       "<div>\n",
       "<style scoped>\n",
       "    .dataframe tbody tr th:only-of-type {\n",
       "        vertical-align: middle;\n",
       "    }\n",
       "\n",
       "    .dataframe tbody tr th {\n",
       "        vertical-align: top;\n",
       "    }\n",
       "\n",
       "    .dataframe thead th {\n",
       "        text-align: right;\n",
       "    }\n",
       "</style>\n",
       "<table border=\"1\" class=\"dataframe\">\n",
       "  <thead>\n",
       "    <tr style=\"text-align: right;\">\n",
       "      <th></th>\n",
       "      <th>Company Name</th>\n",
       "      <th>Suite Number</th>\n",
       "      <th>City</th>\n",
       "      <th>State</th>\n",
       "      <th>Zip Code</th>\n",
       "      <th>Contact Person</th>\n",
       "      <th>Email</th>\n",
       "      <th>Phone Number</th>\n",
       "      <th>Website</th>\n",
       "    </tr>\n",
       "  </thead>\n",
       "  <tbody>\n",
       "    <tr>\n",
       "      <th>0</th>\n",
       "      <td>EB/EastBridge</td>\n",
       "      <td>1206</td>\n",
       "      <td>Talent Center</td>\n",
       "      <td>No.22 Shishan Road, Suzhou New District, Jiang...</td>\n",
       "      <td>215011</td>\n",
       "      <td>eva.hu@eb-intl.com</td>\n",
       "      <td>eva.hu@eb-intl.com</td>\n",
       "      <td>0512-68185996</td>\n",
       "      <td>eb-intl.com</td>\n",
       "    </tr>\n",
       "  </tbody>\n",
       "</table>\n",
       "</div>"
      ],
      "text/plain": [
       "    Company Name Suite Number           City  \\\n",
       "0  EB/EastBridge         1206  Talent Center   \n",
       "\n",
       "                                               State Zip Code  \\\n",
       "0  No.22 Shishan Road, Suzhou New District, Jiang...   215011   \n",
       "\n",
       "       Contact Person               Email   Phone Number      Website  \n",
       "0  eva.hu@eb-intl.com  eva.hu@eb-intl.com  0512-68185996  eb-intl.com  "
      ]
     },
     "execution_count": 48,
     "metadata": {},
     "output_type": "execute_result"
    }
   ],
   "source": [
    "df = pd.DataFrame([Company_Information])\n",
    "df"
   ]
  },
  {
   "cell_type": "code",
   "execution_count": 49,
   "metadata": {},
   "outputs": [
    {
     "name": "stdout",
     "output_type": "stream",
     "text": [
      "CIN: U72900TN2022PTC150049\n",
      "Registration Number: 150049\n",
      "Email: mathanrj@gmail.com\n",
      "Registered Address: NO. 133-B, ANNA 3RD STREET, E-BLOCK THANIKACHALAM NAGAR, PONNIAMMANMEDU CHENNAI Chennai TN 600110 IN\n"
     ]
    }
   ],
   "source": [
    "import re\n",
    "\n",
    "text = \"\"\"\n",
    "Mavdero Techservices Private Limited's Corporate Identification Number is (CIN) U72900TN2022PTC150049 and its registration number is 150049.\n",
    "Its Email address is mathanrj@gmail.com and its registered address is NO. 133-B, ANNA 3RD STREET, E-BLOCK THANIKACHALAM NAGAR, PONNIAMMANMEDU CHENNAI Chennai TN 600110 IN\n",
    "\"\"\"\n",
    "\n",
    "# Extract CIN\n",
    "cin_match = re.search(r'CIN\\s*[\\(\\)]*\\s*([A-Z\\d]+)', text)\n",
    "cin = cin_match.group(1) if cin_match else None\n",
    "\n",
    "# Extract registration number\n",
    "registration_number_match = re.search(r'registration number is (\\d+)', text)\n",
    "registration_number = registration_number_match.group(1) if registration_number_match else None\n",
    "\n",
    "# Extract email address\n",
    "email_match = re.search(r'Email address is (\\S+)', text)\n",
    "email = email_match.group(1) if email_match else None\n",
    "\n",
    "# Extract registered address\n",
    "registered_address_match = re.search(r'registered address is (.+?)(?=(Email|\\Z))', text, re.DOTALL)\n",
    "registered_address = registered_address_match.group(1).strip() if registered_address_match else None\n",
    "\n",
    "# Print extracted information\n",
    "print(\"CIN:\", cin)\n",
    "print(\"Registration Number:\", registration_number)\n",
    "print(\"Email:\", email)\n",
    "print(\"Registered Address:\", registered_address)\n"
   ]
  }
 ],
 "metadata": {
  "kernelspec": {
   "display_name": "Python 3",
   "language": "python",
   "name": "python3"
  },
  "language_info": {
   "codemirror_mode": {
    "name": "ipython",
    "version": 3
   },
   "file_extension": ".py",
   "mimetype": "text/x-python",
   "name": "python",
   "nbconvert_exporter": "python",
   "pygments_lexer": "ipython3",
   "version": "3.11.5"
  }
 },
 "nbformat": 4,
 "nbformat_minor": 2
}
