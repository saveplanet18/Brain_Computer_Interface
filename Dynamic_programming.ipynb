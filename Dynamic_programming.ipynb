{
 "cells": [
  {
   "cell_type": "code",
   "execution_count": 10,
   "metadata": {},
   "outputs": [
    {
     "data": {
      "text/plain": [
       "34"
      ]
     },
     "execution_count": 10,
     "metadata": {},
     "output_type": "execute_result"
    }
   ],
   "source": [
    "def fibonacci_series(nums):\n",
    "    if nums <= 1:\n",
    "        return nums\n",
    "    return fibonacci_series(nums-1) + fibonacci_series(nums-2)\n",
    "fibonacci_series(nums = 9)"
   ]
  },
  {
   "cell_type": "code",
   "execution_count": 1,
   "metadata": {},
   "outputs": [
    {
     "data": {
      "text/plain": [
       "34"
      ]
     },
     "execution_count": 1,
     "metadata": {},
     "output_type": "execute_result"
    }
   ],
   "source": [
    "def Dynamic_Programming(nums):\n",
    "    DP = [0] * (nums+1)\n",
    "    DP[0] = 0\n",
    "    DP[1] = 1\n",
    "    for i in range(2,nums+1):\n",
    "        DP[i] = DP[i-1] + DP[i-2]\n",
    "    return DP[nums]\n",
    "Dynamic_Programming(nums=9)"
   ]
  },
  {
   "cell_type": "code",
   "execution_count": null,
   "metadata": {},
   "outputs": [],
   "source": [
    "import json\n",
    "\n",
    "# Assuming 'json_data' is your JSON-like structure\n",
    "json_string = '''\n",
    "{\n",
    "   \"mimeType\": \"image/jpeg\",\n",
    "   \"originalname\": \"image.jpg\",\n",
    "   \"name\": \"EastBridge-Science-Strategic\",\n",
    "   \"fileSize\": 3326905,\n",
    "   \"ocrInfomation\": \"EB/EastBridge The Science of Strategic Sourcing EastBridge Business Service(SIP)Co., Ltd Eva Hu Suite 1206, Talent Center, No.22 Shishan Road, Suzhou New District, Jiangsu, China 215011 General Manager eva.hu@eb-intl.com 0512-68185996 www.eb-intl.com\",\n",
    "   \"tags\": null\n",
    "}\n",
    "'''\n",
    "\n",
    "# Parse the JSON string\n",
    "data_dict = json.loads(json_string)\n",
    "\n",
    "# Access specific fields\n",
    "mimeType = data_dict['mimeType']\n",
    "originalname = data_dict['originalname']\n",
    "name = data_dict['name']\n",
    "fileSize = data_dict['fileSize']\n",
    "ocrInformation = data_dict['ocrInfomation']\n",
    "tags = data_dict['tags']\n",
    "\n",
    "# Extract information from the OCR data\n",
    "ocr_info_list = ocrInformation.split(' ')\n",
    "general_manager = ocr_info_list[-4]\n",
    "email = ocr_info_list[-3]\n",
    "phone_number = ocr_info_list[-2]\n",
    "website = ocr_info_list[-1]\n",
    "\n",
    "# Print extracted information\n",
    "print(\"MIME Type:\", mimeType)\n",
    "print(\"Original Name:\", originalname)\n",
    "print(\"Name:\", name)\n",
    "print(\"File Size:\", fileSize)\n",
    "print(\"OCR Information:\", ocrInformation)\n",
    "print(\"Tags:\", tags)\n",
    "print(\"General Manager:\", general_manager)\n",
    "print(\"Email:\", email)\n",
    "print(\"Phone Number:\", phone_number)\n",
    "print(\"Website:\", website)\n"
   ]
  }
 ],
 "metadata": {
  "kernelspec": {
   "display_name": "base",
   "language": "python",
   "name": "python3"
  },
  "language_info": {
   "codemirror_mode": {
    "name": "ipython",
    "version": 3
   },
   "file_extension": ".py",
   "mimetype": "text/x-python",
   "name": "python",
   "nbconvert_exporter": "python",
   "pygments_lexer": "ipython3",
   "version": "3.11.5"
  }
 },
 "nbformat": 4,
 "nbformat_minor": 2
}
